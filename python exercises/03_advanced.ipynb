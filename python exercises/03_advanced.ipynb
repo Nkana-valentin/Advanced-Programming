{
 "cells": [
  {
   "cell_type": "markdown",
   "metadata": {},
   "source": [
    "## myrange\n",
    "\n",
    "Implement $myrange$ that acts like $range$\n",
    "   - define a function $myrange$\n",
    "   - define a class $MyRange$\n",
    "   \n",
    "Remember to raise the right exception if too few (or too many) arguments are passed."
   ]
  },
  {
   "cell_type": "code",
   "execution_count": 58,
   "metadata": {
    "collapsed": true
   },
   "outputs": [],
   "source": [
    "class MyRange:\n",
    "                \n",
    "    def __init__(self,*args):\n",
    "        self.start = 0\n",
    "        self.step = 1\n",
    "        \n",
    "        if len(args) == 0 or len(args)>3:\n",
    "            raise TypeError('Wrong number of arguments.\\nThe class MyRange accept 1, 2 or 3 integer values')\n",
    "    \n",
    "    \n",
    "        elif len(args) == 1:\n",
    "            if type(args[0]) != int:\n",
    "                raise TypeError('First argument must be an integer')\n",
    "            self.stop = args[0]\n",
    "\n",
    "        elif len(args) == 2:\n",
    "            if type(args[0]) != int or type(args[1]) != int:\n",
    "                raise TypeError('First and second arguments must both be integers')   \n",
    "            self.start = args[0]\n",
    "            self.stop = args[1]\n",
    "        \n",
    "        else:\n",
    "            if type(args[0]) != int or type(args[1]) != int or type(args[2]) != int:\n",
    "                raise TypeError('First and second arguments must both be integers')\n",
    "            self.start = args[0]\n",
    "            self.stop = args[1]\n",
    "            self.step = args[2]\n",
    "        \n",
    "        \n",
    "    def __iter__(self):\n",
    "        return self\n",
    "    \n",
    "    def __next__(self):\n",
    "        if self.start >= self.stop:\n",
    "            raise StopIteration\n",
    "        current = self.start\n",
    "        self.start += self.step\n",
    "        return current\n",
    "    \n",
    "    def __repr__(self):\n",
    "        if self.start == 0 and self.step == 1:\n",
    "            return 'MyRange({})'.format(self.stop)\n",
    "        elif self.step == 1:\n",
    "            return 'MyRange({}, {})'.format(self.start, self.stop)\n",
    "        else:\n",
    "            return 'MyRange({}, {}, {})'.format(self.start, self.stop, self.step)\n"
   ]
  },
  {
   "cell_type": "code",
   "execution_count": 40,
   "metadata": {
    "collapsed": true
   },
   "outputs": [],
   "source": [
    "def my_range(*args):\n",
    "    \n",
    "    start = 0\n",
    "    step = 1\n",
    "    \n",
    "    if len(args) == 0 or len(args)>3:\n",
    "        raise TypeError('Wrong number of arguments.\\nThe function my_range accept 1, 2 or 3 integer values')\n",
    "    \n",
    "    elif len(args) == 1: #stop == None:\n",
    "        if type(args[0]) != int:\n",
    "            raise TypeError('First argument must be an integer')\n",
    "        stop = args[0]\n",
    "\n",
    "    elif len(args) == 2:\n",
    "        if type(args[0]) != int or type(args[1]) != int:\n",
    "            raise TypeError('First and second arguments must both be integers')\n",
    "                \n",
    "        start = args[0]\n",
    "        stop = args[1]\n",
    "        \n",
    "    else:\n",
    "        if type(args[0]) != int or type(args[1]) != int or type(args[2]) != int:\n",
    "            raise TypeError('First and second arguments must both be integers')\n",
    "            \n",
    "        start = args[0]\n",
    "        stop = args[1]\n",
    "        step = args[2]\n",
    "            \n",
    "    current = start\n",
    "    while current < stop:\n",
    "        yield current\n",
    "        current += step"
   ]
  },
  {
   "cell_type": "markdown",
   "metadata": {},
   "source": [
    "# Context manager\n",
    "\n",
    "Implement a Timer that exploiting $__enter__$ and $__exit__$ is able to measure the time spent in a portion of python code."
   ]
  },
  {
   "cell_type": "code",
   "execution_count": 7,
   "metadata": {
    "collapsed": true,
    "scrolled": true
   },
   "outputs": [],
   "source": [
    "import time\n",
    "\n",
    "class Timer:    \n",
    "    def __enter__(self):\n",
    "        self.start = time.clock()\n",
    "        return self\n",
    "\n",
    "    def __exit__(self, *args):\n",
    "        self.end = time.clock()\n",
    "        self.time = self.end - self.start"
   ]
  },
  {
   "cell_type": "code",
   "execution_count": 61,
   "metadata": {},
   "outputs": [
    {
     "name": "stdout",
     "output_type": "stream",
     "text": [
      "0.007800753323181198\n"
     ]
    }
   ],
   "source": [
    "with Timer() as t:\n",
    "    for i in MyRange(0,10000) :\n",
    "        a = i\n",
    "        \n",
    "print(t.time)"
   ]
  },
  {
   "cell_type": "markdown",
   "metadata": {},
   "source": [
    "# Unittest\n",
    "\n",
    "Write several tests to test $range$ and $MyRange$"
   ]
  }
 ],
 "metadata": {
  "kernelspec": {
   "display_name": "Python 3",
   "language": "python",
   "name": "python3"
  },
  "language_info": {
   "codemirror_mode": {
    "name": "ipython",
    "version": 3
   },
   "file_extension": ".py",
   "mimetype": "text/x-python",
   "name": "python",
   "nbconvert_exporter": "python",
   "pygments_lexer": "ipython3",
   "version": "3.6.3"
  }
 },
 "nbformat": 4,
 "nbformat_minor": 2
}
