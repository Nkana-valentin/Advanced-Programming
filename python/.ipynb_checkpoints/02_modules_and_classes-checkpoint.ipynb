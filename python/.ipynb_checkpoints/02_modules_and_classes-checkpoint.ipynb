{
 "cells": [
  {
   "cell_type": "markdown",
   "metadata": {},
   "source": [
    "# **PYTHON EXERCISES** - 02_modules_and_classes"
   ]
  },
  {
   "cell_type": "markdown",
   "metadata": {},
   "source": [
    "## 1) Teaser\n",
    "\n",
    "- import the module named  **`this`** from the interactive shell\n",
    "- import the module named **`antigravity`**"
   ]
  },
  {
   "cell_type": "code",
   "execution_count": null,
   "metadata": {
    "collapsed": true
   },
   "outputs": [],
   "source": [
    "import this\n",
    "import antigravity"
   ]
  },
  {
   "cell_type": "markdown",
   "metadata": {},
   "source": [
    "## 2) Lambda\n",
    "\n",
    "\n",
    "Given a list of words `str`, construct a new ordered list from the former where words are sorted by their reversed spelling using a `lambda` function.\n",
    "\n",
    "Hint: use `sorted` and its keyword argument `key`."
   ]
  },
  {
   "cell_type": "code",
   "execution_count": null,
   "metadata": {
    "collapsed": true
   },
   "outputs": [],
   "source": [
    "def rev_spel(lista): \n",
    "    '''\n",
    "    \n",
    "    Non sono sicuro di avere ben capito cosa chiede l'esercizio.\n",
    "    \n",
    "    La funzione rev_spel prende in ingresso una lista L di stringhe e\n",
    "    ritorna una lista R creata considerando le stringhe di L come scritte\n",
    "    al contrario (es. ABC -> CBA) e poi ordinandole in ordine alfabetico.\n",
    "    \n",
    "    '''\n",
    "    return sorted(lista, key=lambda x: x[::-1])"
   ]
  },
  {
   "cell_type": "code",
   "execution_count": null,
   "metadata": {
    "collapsed": true,
    "scrolled": false
   },
   "outputs": [],
   "source": [
    "L = [\"yuri\", \"matteo\", \"davide\", \"giulia\", \"mariagiulia\", \"nadia\"]\n",
    "print(rev_spel(L))"
   ]
  },
  {
   "cell_type": "markdown",
   "metadata": {},
   "source": [
    "## 3) *Sequence*\n",
    "\n",
    "Write a class **`Sequence`**.\n",
    "\n",
    " Constructor takes an iterable. Internally, use a `list`.\n",
    " Find the way to support the following syntax:\n",
    "\n",
    "\n",
    "- `s = Sequence(range(10))`\n",
    "\n",
    "- `print(s)` prints all the elements (hint: **`__str__`**)\n",
    "\n",
    "- `len(s)` (hint: **`__len__`**)\n",
    "\n",
    "- `s == other_s` (hint: **`__eq__`**, **`all`**)\n",
    "\n",
    "- `print(s[-1])` (hint: **`__getitem__`**)\n",
    "\n",
    "- `s[0] = 1` (hint: **`__setitem__`**)\n",
    "\n",
    "- `del s[1:4:2]` (hint: **`__delitem__`**)\n",
    "\n",
    "- `for x in s` (hints: **`__iter__`**, **`iter`**)\n",
    "\n",
    "- `s.insert(position, value)`\n",
    "\n",
    "- `s.append(value)`\n",
    "\n",
    "- `s2 = copy.copy(s1)` is a deepcopy (hint: **`__copy__`**)\n",
    "\n"
   ]
  },
  {
   "cell_type": "code",
   "execution_count": null,
   "metadata": {
    "collapsed": true
   },
   "outputs": [],
   "source": [
    "import copy\n",
    "class Sequence():\n",
    "    def __init__(self, components):\n",
    "        self._components = list(copy.deepcopy(components))\n",
    "        \n",
    "    def __len__(self):\n",
    "        return len(self._components)\n",
    "    \n",
    "    def __iter__(self):\n",
    "        return iter(self._components)\n",
    "    \n",
    "    def __getitem__(self,index):\n",
    "        return self._components[index]\n",
    "    \n",
    "    def __eq__(self,other):\n",
    "        return self._components == other._components\n",
    "    \n",
    "    def __delitem__(self,index):\n",
    "        del self._components[index]\n",
    "    \n",
    "    def __setitem__(self,key,value):\n",
    "        self._components[key] = value\n",
    "    \n",
    "    def insert(self, key, value):\n",
    "        self._components.insert(key,value)\n",
    "        \n",
    "    def append(self, value):\n",
    "        self._components.append(value)\n",
    "        \n",
    "    def __str__(self):\n",
    "        return str(self._components)\n",
    "    \n",
    "    def __copy__(self):\n",
    "        return copy.deepcopy(self._components)"
   ]
  },
  {
   "cell_type": "code",
   "execution_count": null,
   "metadata": {
    "collapsed": true
   },
   "outputs": [],
   "source": [
    "#1\n",
    "s = Sequence(range(10))\n",
    "#2\n",
    "print(s)\n",
    "#3\n",
    "print(len(s))\n",
    "#4\n",
    "t = Sequence(range(10))\n",
    "print(t==s)\n",
    "#5\n",
    "print(s[-1])\n",
    "#6\n",
    "s[0]=1\n",
    "print(s)\n",
    "#7\n",
    "del s[1:4:2]\n",
    "#8\n",
    "for x in s:\n",
    "    print(x, end='\\t')\n",
    "print()\n",
    "#9    \n",
    "s.insert(3,42)\n",
    "#10\n",
    "s.append(57)\n",
    "#11\n",
    "z=copy.copy(s)\n",
    "print(\"\\ns = \", s, \"\\nid(s) = \", id(s))\n",
    "print(\"\\nz = \", z, \"\\nid(z) = \", id(z))"
   ]
  }
 ],
 "metadata": {
  "kernelspec": {
   "display_name": "Python 3",
   "language": "python",
   "name": "python3"
  },
  "language_info": {
   "codemirror_mode": {
    "name": "ipython",
    "version": 3
   },
   "file_extension": ".py",
   "mimetype": "text/x-python",
   "name": "python",
   "nbconvert_exporter": "python",
   "pygments_lexer": "ipython3",
   "version": "3.6.3"
  }
 },
 "nbformat": 4,
 "nbformat_minor": 2
}
